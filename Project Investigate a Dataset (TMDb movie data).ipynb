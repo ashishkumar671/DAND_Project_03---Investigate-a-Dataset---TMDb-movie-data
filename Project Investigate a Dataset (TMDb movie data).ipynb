{
 "cells": [
  {
   "cell_type": "markdown",
   "metadata": {},
   "source": [
    "# Project: Investigate a Dataset (TMDb movie data)\n",
    "\n",
    "## Table of Contents\n",
    "<ul>\n",
    "<li><a href=\"#intro\">Introduction</a></li>\n",
    "<li><a href=\"#wrangling\">Data Wrangling</a></li>\n",
    "<li><a href=\"#eda\">Exploratory Data Analysis</a></li>\n",
    "<li><a href=\"#conclusions\">Conclusions</a></li>\n",
    "</ul>"
   ]
  },
  {
   "cell_type": "markdown",
   "metadata": {},
   "source": [
    "<a id='intro'></a>\n",
    "## Introduction\n",
    "\n",
    "The Data set selected for the analysis is ''TMDb movie data''.\n",
    "\n",
    "##### Question1) How are runtimes, popularity and revenues changing over period of years('release_year')?\n",
    "###### Additional Question:\n",
    "###### a.)What are famous runtimes or max runtimes, revenues and popularity values over the years?\n",
    "    \n",
    "##### Question2) What kinds of properties are associated with movies that have high revenues?"
   ]
  },
  {
   "cell_type": "code",
   "execution_count": 2,
   "metadata": {
    "collapsed": true
   },
   "outputs": [],
   "source": [
    "# Use this cell to set up import statements for all of the packages that you\n",
    "#   plan to use.\n",
    "\n",
    "# Remember to include a 'magic word' so that your visualizations are plotted\n",
    "#   inline with the notebook. See this page for more:\n",
    "#   http://ipython.readthedocs.io/en/stable/interactive/magics.htmlimport pandas as pd\n",
    "import pandas as pd\n",
    "import csv\n",
    "import matplotlib.pyplot as plt\n",
    "% matplotlib inline"
   ]
  },
  {
   "cell_type": "markdown",
   "metadata": {},
   "source": [
    "<a id='wrangling'></a>\n",
    "## Data Wrangling"
   ]
  },
  {
   "cell_type": "code",
   "execution_count": 26,
   "metadata": {
    "collapsed": true
   },
   "outputs": [],
   "source": [
    "#Load data from CSV file\n",
    "df = pd.read_csv('tmdb-movies.csv', encoding='ISO-8859-1')"
   ]
  },
  {
   "cell_type": "code",
   "execution_count": 29,
   "metadata": {},
   "outputs": [
    {
     "name": "stdout",
     "output_type": "stream",
     "text": [
      "<class 'pandas.core.frame.DataFrame'>\n",
      "RangeIndex: 10866 entries, 0 to 10865\n",
      "Data columns (total 21 columns):\n",
      "id                      10866 non-null int64\n",
      "imdb_id                 10856 non-null object\n",
      "popularity              10866 non-null float64\n",
      "budget                  10866 non-null int64\n",
      "revenue                 10866 non-null int64\n",
      "original_title          10866 non-null object\n",
      "cast                    10790 non-null object\n",
      "homepage                2936 non-null object\n",
      "director                10822 non-null object\n",
      "tagline                 8042 non-null object\n",
      "keywords                9373 non-null object\n",
      "overview                10862 non-null object\n",
      "runtime                 10866 non-null int64\n",
      "genres                  10843 non-null object\n",
      "production_companies    9836 non-null object\n",
      "release_date            10866 non-null object\n",
      "vote_count              10866 non-null int64\n",
      "vote_average            10866 non-null float64\n",
      "release_year            10866 non-null int64\n",
      "budget_adj              10866 non-null float64\n",
      "revenue_adj             10866 non-null float64\n",
      "dtypes: float64(4), int64(6), object(11)\n",
      "memory usage: 1.3+ MB\n"
     ]
    }
   ],
   "source": [
    "df.info()"
   ]
  },
  {
   "cell_type": "markdown",
   "metadata": {},
   "source": [
    "### Data Cleaning"
   ]
  },
  {
   "cell_type": "code",
   "execution_count": 30,
   "metadata": {},
   "outputs": [
    {
     "data": {
      "text/plain": [
       "1"
      ]
     },
     "execution_count": 30,
     "metadata": {},
     "output_type": "execute_result"
    }
   ],
   "source": [
    "#checking for duplicacy\n",
    "df.duplicated()\n",
    "sum(df.duplicated())"
   ]
  },
  {
   "cell_type": "code",
   "execution_count": 31,
   "metadata": {
    "collapsed": true
   },
   "outputs": [],
   "source": [
    "#removing the duplicate records\n",
    "df.drop_duplicates(inplace=True)"
   ]
  },
  {
   "cell_type": "code",
   "execution_count": 32,
   "metadata": {},
   "outputs": [
    {
     "data": {
      "text/plain": [
       "0"
      ]
     },
     "execution_count": 32,
     "metadata": {},
     "output_type": "execute_result"
    }
   ],
   "source": [
    "#rechecking for duplicacy\n",
    "sum(df.duplicated())"
   ]
  },
  {
   "cell_type": "code",
   "execution_count": 33,
   "metadata": {},
   "outputs": [
    {
     "data": {
      "text/plain": [
       "id                         0\n",
       "imdb_id                   10\n",
       "popularity                 0\n",
       "budget                     0\n",
       "revenue                    0\n",
       "original_title             0\n",
       "cast                      76\n",
       "homepage                7929\n",
       "director                  44\n",
       "tagline                 2824\n",
       "keywords                1493\n",
       "overview                   4\n",
       "runtime                    0\n",
       "genres                    23\n",
       "production_companies    1030\n",
       "release_date               0\n",
       "vote_count                 0\n",
       "vote_average               0\n",
       "release_year               0\n",
       "budget_adj                 0\n",
       "revenue_adj                0\n",
       "dtype: int64"
      ]
     },
     "execution_count": 33,
     "metadata": {},
     "output_type": "execute_result"
    }
   ],
   "source": [
    "#checking for null records\n",
    "df.isnull().sum()"
   ]
  },
  {
   "cell_type": "code",
   "execution_count": 34,
   "metadata": {
    "collapsed": true
   },
   "outputs": [],
   "source": [
    "#So from the above data only imdb_id is having null values which is having relevance for us as its a uniqueid.\n",
    "#We will drop these records from dataset for further analysis.\n",
    "df.dropna(subset=['imdb_id'], inplace=True)"
   ]
  },
  {
   "cell_type": "code",
   "execution_count": 35,
   "metadata": {},
   "outputs": [
    {
     "data": {
      "text/plain": [
       "id                         0\n",
       "imdb_id                    0\n",
       "popularity                 0\n",
       "budget                     0\n",
       "revenue                    0\n",
       "original_title             0\n",
       "cast                      76\n",
       "homepage                7921\n",
       "director                  40\n",
       "tagline                 2817\n",
       "keywords                1487\n",
       "overview                   3\n",
       "runtime                    0\n",
       "genres                    21\n",
       "production_companies    1025\n",
       "release_date               0\n",
       "vote_count                 0\n",
       "vote_average               0\n",
       "release_year               0\n",
       "budget_adj                 0\n",
       "revenue_adj                0\n",
       "dtype: int64"
      ]
     },
     "execution_count": 35,
     "metadata": {},
     "output_type": "execute_result"
    }
   ],
   "source": [
    "#Rechecking for null records\n",
    "df.isnull().sum()"
   ]
  },
  {
   "cell_type": "code",
   "execution_count": 36,
   "metadata": {},
   "outputs": [
    {
     "data": {
      "text/html": [
       "<div>\n",
       "<style>\n",
       "    .dataframe thead tr:only-child th {\n",
       "        text-align: right;\n",
       "    }\n",
       "\n",
       "    .dataframe thead th {\n",
       "        text-align: left;\n",
       "    }\n",
       "\n",
       "    .dataframe tbody tr th {\n",
       "        vertical-align: top;\n",
       "    }\n",
       "</style>\n",
       "<table border=\"1\" class=\"dataframe\">\n",
       "  <thead>\n",
       "    <tr style=\"text-align: right;\">\n",
       "      <th></th>\n",
       "      <th>id</th>\n",
       "      <th>popularity</th>\n",
       "      <th>budget</th>\n",
       "      <th>revenue</th>\n",
       "      <th>runtime</th>\n",
       "      <th>vote_count</th>\n",
       "      <th>vote_average</th>\n",
       "      <th>release_year</th>\n",
       "      <th>budget_adj</th>\n",
       "      <th>revenue_adj</th>\n",
       "    </tr>\n",
       "  </thead>\n",
       "  <tbody>\n",
       "    <tr>\n",
       "      <th>count</th>\n",
       "      <td>10855.000000</td>\n",
       "      <td>10855.000000</td>\n",
       "      <td>1.085500e+04</td>\n",
       "      <td>1.085500e+04</td>\n",
       "      <td>10855.000000</td>\n",
       "      <td>10855.000000</td>\n",
       "      <td>10855.000000</td>\n",
       "      <td>10855.000000</td>\n",
       "      <td>1.085500e+04</td>\n",
       "      <td>1.085500e+04</td>\n",
       "    </tr>\n",
       "    <tr>\n",
       "      <th>mean</th>\n",
       "      <td>65959.191617</td>\n",
       "      <td>0.646832</td>\n",
       "      <td>1.463776e+07</td>\n",
       "      <td>3.986359e+07</td>\n",
       "      <td>102.105205</td>\n",
       "      <td>217.584155</td>\n",
       "      <td>5.973865</td>\n",
       "      <td>2001.313128</td>\n",
       "      <td>1.756606e+07</td>\n",
       "      <td>5.141632e+07</td>\n",
       "    </tr>\n",
       "    <tr>\n",
       "      <th>std</th>\n",
       "      <td>92018.246342</td>\n",
       "      <td>1.000591</td>\n",
       "      <td>3.092533e+07</td>\n",
       "      <td>1.170559e+08</td>\n",
       "      <td>31.348734</td>\n",
       "      <td>575.877532</td>\n",
       "      <td>0.934604</td>\n",
       "      <td>12.815672</td>\n",
       "      <td>3.431919e+07</td>\n",
       "      <td>1.446965e+08</td>\n",
       "    </tr>\n",
       "    <tr>\n",
       "      <th>min</th>\n",
       "      <td>5.000000</td>\n",
       "      <td>0.000065</td>\n",
       "      <td>0.000000e+00</td>\n",
       "      <td>0.000000e+00</td>\n",
       "      <td>0.000000</td>\n",
       "      <td>10.000000</td>\n",
       "      <td>1.500000</td>\n",
       "      <td>1960.000000</td>\n",
       "      <td>0.000000e+00</td>\n",
       "      <td>0.000000e+00</td>\n",
       "    </tr>\n",
       "    <tr>\n",
       "      <th>25%</th>\n",
       "      <td>10591.500000</td>\n",
       "      <td>0.207733</td>\n",
       "      <td>0.000000e+00</td>\n",
       "      <td>0.000000e+00</td>\n",
       "      <td>90.000000</td>\n",
       "      <td>17.000000</td>\n",
       "      <td>5.400000</td>\n",
       "      <td>1995.000000</td>\n",
       "      <td>0.000000e+00</td>\n",
       "      <td>0.000000e+00</td>\n",
       "    </tr>\n",
       "    <tr>\n",
       "      <th>50%</th>\n",
       "      <td>20618.000000</td>\n",
       "      <td>0.383998</td>\n",
       "      <td>0.000000e+00</td>\n",
       "      <td>0.000000e+00</td>\n",
       "      <td>99.000000</td>\n",
       "      <td>38.000000</td>\n",
       "      <td>6.000000</td>\n",
       "      <td>2006.000000</td>\n",
       "      <td>0.000000e+00</td>\n",
       "      <td>0.000000e+00</td>\n",
       "    </tr>\n",
       "    <tr>\n",
       "      <th>75%</th>\n",
       "      <td>75393.500000</td>\n",
       "      <td>0.714446</td>\n",
       "      <td>1.500000e+07</td>\n",
       "      <td>2.404727e+07</td>\n",
       "      <td>111.000000</td>\n",
       "      <td>146.000000</td>\n",
       "      <td>6.600000</td>\n",
       "      <td>2011.000000</td>\n",
       "      <td>2.085325e+07</td>\n",
       "      <td>3.374346e+07</td>\n",
       "    </tr>\n",
       "    <tr>\n",
       "      <th>max</th>\n",
       "      <td>417859.000000</td>\n",
       "      <td>32.985763</td>\n",
       "      <td>4.250000e+08</td>\n",
       "      <td>2.781506e+09</td>\n",
       "      <td>900.000000</td>\n",
       "      <td>9767.000000</td>\n",
       "      <td>9.200000</td>\n",
       "      <td>2015.000000</td>\n",
       "      <td>4.250000e+08</td>\n",
       "      <td>2.827124e+09</td>\n",
       "    </tr>\n",
       "  </tbody>\n",
       "</table>\n",
       "</div>"
      ],
      "text/plain": [
       "                  id    popularity        budget       revenue       runtime  \\\n",
       "count   10855.000000  10855.000000  1.085500e+04  1.085500e+04  10855.000000   \n",
       "mean    65959.191617      0.646832  1.463776e+07  3.986359e+07    102.105205   \n",
       "std     92018.246342      1.000591  3.092533e+07  1.170559e+08     31.348734   \n",
       "min         5.000000      0.000065  0.000000e+00  0.000000e+00      0.000000   \n",
       "25%     10591.500000      0.207733  0.000000e+00  0.000000e+00     90.000000   \n",
       "50%     20618.000000      0.383998  0.000000e+00  0.000000e+00     99.000000   \n",
       "75%     75393.500000      0.714446  1.500000e+07  2.404727e+07    111.000000   \n",
       "max    417859.000000     32.985763  4.250000e+08  2.781506e+09    900.000000   \n",
       "\n",
       "         vote_count  vote_average  release_year    budget_adj   revenue_adj  \n",
       "count  10855.000000  10855.000000  10855.000000  1.085500e+04  1.085500e+04  \n",
       "mean     217.584155      5.973865   2001.313128  1.756606e+07  5.141632e+07  \n",
       "std      575.877532      0.934604     12.815672  3.431919e+07  1.446965e+08  \n",
       "min       10.000000      1.500000   1960.000000  0.000000e+00  0.000000e+00  \n",
       "25%       17.000000      5.400000   1995.000000  0.000000e+00  0.000000e+00  \n",
       "50%       38.000000      6.000000   2006.000000  0.000000e+00  0.000000e+00  \n",
       "75%      146.000000      6.600000   2011.000000  2.085325e+07  3.374346e+07  \n",
       "max     9767.000000      9.200000   2015.000000  4.250000e+08  2.827124e+09  "
      ]
     },
     "execution_count": 36,
     "metadata": {},
     "output_type": "execute_result"
    }
   ],
   "source": [
    "df.describe()"
   ]
  },
  {
   "cell_type": "markdown",
   "metadata": {},
   "source": [
    "##### From Column 'revenue' and  'budget' all the records which are zero have been dropped because 50%(can be seen from above describe function) of data was zero in these colmns.\n",
    "\n",
    "##### And these columns where not updated with most frequent values because 'revenue' and  'budget'  of each movies is different, it can't  be same for 50% of the data.So it would have been adversely affected our analysis.\n",
    "\n",
    "##### So it was fair to drop all those zero records for analysis."
   ]
  },
  {
   "cell_type": "code",
   "execution_count": 38,
   "metadata": {
    "collapsed": true
   },
   "outputs": [],
   "source": [
    "#Removing the zero records from coloumn revenue,budget(which is our point intrest)\n",
    "df = df[df.revenue != 0]\n",
    "df = df[df.budget != 0]"
   ]
  },
  {
   "cell_type": "code",
   "execution_count": 39,
   "metadata": {},
   "outputs": [
    {
     "data": {
      "text/html": [
       "<div>\n",
       "<style>\n",
       "    .dataframe thead tr:only-child th {\n",
       "        text-align: right;\n",
       "    }\n",
       "\n",
       "    .dataframe thead th {\n",
       "        text-align: left;\n",
       "    }\n",
       "\n",
       "    .dataframe tbody tr th {\n",
       "        vertical-align: top;\n",
       "    }\n",
       "</style>\n",
       "<table border=\"1\" class=\"dataframe\">\n",
       "  <thead>\n",
       "    <tr style=\"text-align: right;\">\n",
       "      <th></th>\n",
       "      <th>id</th>\n",
       "      <th>popularity</th>\n",
       "      <th>budget</th>\n",
       "      <th>revenue</th>\n",
       "      <th>runtime</th>\n",
       "      <th>vote_count</th>\n",
       "      <th>vote_average</th>\n",
       "      <th>release_year</th>\n",
       "      <th>budget_adj</th>\n",
       "      <th>revenue_adj</th>\n",
       "    </tr>\n",
       "  </thead>\n",
       "  <tbody>\n",
       "    <tr>\n",
       "      <th>count</th>\n",
       "      <td>3854.000000</td>\n",
       "      <td>3854.000000</td>\n",
       "      <td>3.854000e+03</td>\n",
       "      <td>3.854000e+03</td>\n",
       "      <td>3854.000000</td>\n",
       "      <td>3854.000000</td>\n",
       "      <td>3854.000000</td>\n",
       "      <td>3854.000000</td>\n",
       "      <td>3.854000e+03</td>\n",
       "      <td>3.854000e+03</td>\n",
       "    </tr>\n",
       "    <tr>\n",
       "      <th>mean</th>\n",
       "      <td>39888.185262</td>\n",
       "      <td>1.191554</td>\n",
       "      <td>3.720370e+07</td>\n",
       "      <td>1.076866e+08</td>\n",
       "      <td>109.220291</td>\n",
       "      <td>527.720291</td>\n",
       "      <td>6.168163</td>\n",
       "      <td>2001.261028</td>\n",
       "      <td>4.423999e+07</td>\n",
       "      <td>1.370647e+08</td>\n",
       "    </tr>\n",
       "    <tr>\n",
       "      <th>std</th>\n",
       "      <td>67222.527399</td>\n",
       "      <td>1.475162</td>\n",
       "      <td>4.220822e+07</td>\n",
       "      <td>1.765393e+08</td>\n",
       "      <td>19.922820</td>\n",
       "      <td>879.956821</td>\n",
       "      <td>0.794920</td>\n",
       "      <td>11.282575</td>\n",
       "      <td>4.480925e+07</td>\n",
       "      <td>2.161114e+08</td>\n",
       "    </tr>\n",
       "    <tr>\n",
       "      <th>min</th>\n",
       "      <td>5.000000</td>\n",
       "      <td>0.001117</td>\n",
       "      <td>1.000000e+00</td>\n",
       "      <td>2.000000e+00</td>\n",
       "      <td>15.000000</td>\n",
       "      <td>10.000000</td>\n",
       "      <td>2.200000</td>\n",
       "      <td>1960.000000</td>\n",
       "      <td>9.693980e-01</td>\n",
       "      <td>2.370705e+00</td>\n",
       "    </tr>\n",
       "    <tr>\n",
       "      <th>25%</th>\n",
       "      <td>6073.500000</td>\n",
       "      <td>0.462368</td>\n",
       "      <td>1.000000e+07</td>\n",
       "      <td>1.360003e+07</td>\n",
       "      <td>95.000000</td>\n",
       "      <td>71.000000</td>\n",
       "      <td>5.700000</td>\n",
       "      <td>1995.000000</td>\n",
       "      <td>1.309053e+07</td>\n",
       "      <td>1.835735e+07</td>\n",
       "    </tr>\n",
       "    <tr>\n",
       "      <th>50%</th>\n",
       "      <td>11321.500000</td>\n",
       "      <td>0.797511</td>\n",
       "      <td>2.400000e+07</td>\n",
       "      <td>4.480000e+07</td>\n",
       "      <td>106.000000</td>\n",
       "      <td>204.000000</td>\n",
       "      <td>6.200000</td>\n",
       "      <td>2004.000000</td>\n",
       "      <td>3.001611e+07</td>\n",
       "      <td>6.173068e+07</td>\n",
       "    </tr>\n",
       "    <tr>\n",
       "      <th>75%</th>\n",
       "      <td>38573.250000</td>\n",
       "      <td>1.368324</td>\n",
       "      <td>5.000000e+07</td>\n",
       "      <td>1.242125e+08</td>\n",
       "      <td>119.000000</td>\n",
       "      <td>580.000000</td>\n",
       "      <td>6.700000</td>\n",
       "      <td>2010.000000</td>\n",
       "      <td>6.061307e+07</td>\n",
       "      <td>1.632577e+08</td>\n",
       "    </tr>\n",
       "    <tr>\n",
       "      <th>max</th>\n",
       "      <td>417859.000000</td>\n",
       "      <td>32.985763</td>\n",
       "      <td>4.250000e+08</td>\n",
       "      <td>2.781506e+09</td>\n",
       "      <td>338.000000</td>\n",
       "      <td>9767.000000</td>\n",
       "      <td>8.400000</td>\n",
       "      <td>2015.000000</td>\n",
       "      <td>4.250000e+08</td>\n",
       "      <td>2.827124e+09</td>\n",
       "    </tr>\n",
       "  </tbody>\n",
       "</table>\n",
       "</div>"
      ],
      "text/plain": [
       "                  id   popularity        budget       revenue      runtime  \\\n",
       "count    3854.000000  3854.000000  3.854000e+03  3.854000e+03  3854.000000   \n",
       "mean    39888.185262     1.191554  3.720370e+07  1.076866e+08   109.220291   \n",
       "std     67222.527399     1.475162  4.220822e+07  1.765393e+08    19.922820   \n",
       "min         5.000000     0.001117  1.000000e+00  2.000000e+00    15.000000   \n",
       "25%      6073.500000     0.462368  1.000000e+07  1.360003e+07    95.000000   \n",
       "50%     11321.500000     0.797511  2.400000e+07  4.480000e+07   106.000000   \n",
       "75%     38573.250000     1.368324  5.000000e+07  1.242125e+08   119.000000   \n",
       "max    417859.000000    32.985763  4.250000e+08  2.781506e+09   338.000000   \n",
       "\n",
       "        vote_count  vote_average  release_year    budget_adj   revenue_adj  \n",
       "count  3854.000000   3854.000000   3854.000000  3.854000e+03  3.854000e+03  \n",
       "mean    527.720291      6.168163   2001.261028  4.423999e+07  1.370647e+08  \n",
       "std     879.956821      0.794920     11.282575  4.480925e+07  2.161114e+08  \n",
       "min      10.000000      2.200000   1960.000000  9.693980e-01  2.370705e+00  \n",
       "25%      71.000000      5.700000   1995.000000  1.309053e+07  1.835735e+07  \n",
       "50%     204.000000      6.200000   2004.000000  3.001611e+07  6.173068e+07  \n",
       "75%     580.000000      6.700000   2010.000000  6.061307e+07  1.632577e+08  \n",
       "max    9767.000000      8.400000   2015.000000  4.250000e+08  2.827124e+09  "
      ]
     },
     "execution_count": 39,
     "metadata": {},
     "output_type": "execute_result"
    }
   ],
   "source": [
    "df.describe()"
   ]
  },
  {
   "cell_type": "code",
   "execution_count": 43,
   "metadata": {},
   "outputs": [
    {
     "data": {
      "text/plain": [
       "<bound method NDFrame.head of            id    imdb_id  popularity     budget     revenue  \\\n",
       "0      135397  tt0369610   32.985763  150000000  1513528810   \n",
       "1       76341  tt1392190   28.419936  150000000   378436354   \n",
       "2      262500  tt2908446   13.112507  110000000   295238201   \n",
       "3      140607  tt2488496   11.173104  200000000  2068178225   \n",
       "4      168259  tt2820852    9.335014  190000000  1506249360   \n",
       "5      281957  tt1663202    9.110700  135000000   532950503   \n",
       "6       87101  tt1340138    8.654359  155000000   440603537   \n",
       "7      286217  tt3659388    7.667400  108000000   595380321   \n",
       "8      211672  tt2293640    7.404165   74000000  1156730962   \n",
       "9      150540  tt2096673    6.326804  175000000   853708609   \n",
       "10     206647  tt2379713    6.200282  245000000   880674609   \n",
       "11      76757  tt1617661    6.189369  176000003   183987723   \n",
       "12     264660  tt0470752    6.118847   15000000    36869414   \n",
       "13     257344  tt2120120    5.984995   88000000   243637091   \n",
       "14      99861  tt2395427    5.944927  280000000  1405035767   \n",
       "15     273248  tt3460252    5.898400   44000000   155760117   \n",
       "16     260346  tt2446042    5.749758   48000000   325771424   \n",
       "17     102899  tt0478970    5.573184  130000000   518602163   \n",
       "18     150689  tt1661199    5.556818   95000000   542351353   \n",
       "19     131634  tt1951266    5.476958  160000000   650523427   \n",
       "20     158852  tt1964418    5.462138  190000000   209035668   \n",
       "21     307081  tt1798684    5.337064   30000000    91709827   \n",
       "22     254128  tt2126355    4.907832  110000000   470490832   \n",
       "23     216015  tt2322441    4.710402   40000000   569651467   \n",
       "24     318846  tt1596363    4.648046   28000000   133346506   \n",
       "25     177677  tt2381249    4.566713  150000000   682330139   \n",
       "26     214756  tt2637276    4.564549   68000000   215863606   \n",
       "27     207703  tt2802144    4.503789   81000000   403802136   \n",
       "28     314365  tt1895587    4.062293   20000000    88346473   \n",
       "29     294254  tt4046784    3.968891   61000000   311256926   \n",
       "...       ...        ...         ...        ...         ...   \n",
       "10690   15121  tt0059742    1.313676    8200000   163214286   \n",
       "10691     907  tt0059113    1.282053   14000000   111721910   \n",
       "10692   10338  tt0059797    0.622157    5600000    29950000   \n",
       "10716    2428  tt0059245    0.146033   20000000    12000000   \n",
       "10724     668  tt0064757    1.778746    7000000    81974493   \n",
       "10725     642  tt0064115    1.357317    6000000   102308889   \n",
       "10727    3116  tt0064665    0.859806    3600000    44785053   \n",
       "10728     576  tt0065214    0.615889    6244087      638641   \n",
       "10755     621  tt0077631    1.697618    6000000   181813770   \n",
       "10756     579  tt0077766    1.562700   20000000   187884007   \n",
       "10757     923  tt0077402    1.210531     650000    55000000   \n",
       "10758    1924  tt0078346    1.210324   55000000   300218018   \n",
       "10759     948  tt0077651    1.198849     300000    70000000   \n",
       "10760    8469  tt0077975    1.157930    2700000   141000000   \n",
       "10762   11778  tt0077416    0.959754   15000000    50000000   \n",
       "10770   11327  tt0077928    0.512719    2300000    35000000   \n",
       "10771     123  tt0077869    0.496029    4000000    30471420   \n",
       "10775    4192  tt0077413    0.468871    7920000    14560084   \n",
       "10777   28932  tt0077531    0.439210         11          11   \n",
       "10778   17339  tt0077572    0.435312    5000000     7230000   \n",
       "10779    9584  tt0077369    0.411826   12000000    22765081   \n",
       "10780   11850  tt0077745    0.409377    3500000    24046533   \n",
       "10788   24961  tt0078504    0.277769   24000000    21049053   \n",
       "10791   10766  tt0077394    0.236193    6800000    26518355   \n",
       "10793   11837  tt0078480    0.226002    1000000     3713768   \n",
       "10822     396  tt0061184    0.670274    7500000    33736689   \n",
       "10828    5780  tt0061107    0.402730    3000000    13000000   \n",
       "10829    6644  tt0061619    0.395668    4653000     6000000   \n",
       "10835    5923  tt0060934    0.299911   12000000    20000000   \n",
       "10848    2161  tt0060397    0.207257    5115000    12000000   \n",
       "\n",
       "                                          original_title  \\\n",
       "0                                         Jurassic World   \n",
       "1                                     Mad Max: Fury Road   \n",
       "2                                              Insurgent   \n",
       "3                           Star Wars: The Force Awakens   \n",
       "4                                              Furious 7   \n",
       "5                                           The Revenant   \n",
       "6                                     Terminator Genisys   \n",
       "7                                            The Martian   \n",
       "8                                                Minions   \n",
       "9                                             Inside Out   \n",
       "10                                               Spectre   \n",
       "11                                     Jupiter Ascending   \n",
       "12                                            Ex Machina   \n",
       "13                                                Pixels   \n",
       "14                               Avengers: Age of Ultron   \n",
       "15                                     The Hateful Eight   \n",
       "16                                               Taken 3   \n",
       "17                                               Ant-Man   \n",
       "18                                            Cinderella   \n",
       "19                 The Hunger Games: Mockingjay - Part 2   \n",
       "20                                          Tomorrowland   \n",
       "21                                              Southpaw   \n",
       "22                                           San Andreas   \n",
       "23                                  Fifty Shades of Grey   \n",
       "24                                         The Big Short   \n",
       "25                    Mission: Impossible - Rogue Nation   \n",
       "26                                                 Ted 2   \n",
       "27                          Kingsman: The Secret Service   \n",
       "28                                             Spotlight   \n",
       "29                        Maze Runner: The Scorch Trials   \n",
       "...                                                  ...   \n",
       "10690                                 The Sound of Music   \n",
       "10691                                     Doctor Zhivago   \n",
       "10692  Those Magnificent Men in Their Flying Machines...   \n",
       "10716                       The Greatest Story Ever Told   \n",
       "10724                    On Her Majesty's Secret Service   \n",
       "10725                 Butch Cassidy and the Sundance Kid   \n",
       "10727                                    Midnight Cowboy   \n",
       "10728                                     The Wild Bunch   \n",
       "10755                                             Grease   \n",
       "10756                                             Jaws 2   \n",
       "10757                                   Dawn of the Dead   \n",
       "10758                                           Superman   \n",
       "10759                                          Halloween   \n",
       "10760                                       Animal House   \n",
       "10762                                    The Deer Hunter   \n",
       "10770                                   Midnight Express   \n",
       "10771                              The Lord of the Rings   \n",
       "10775                                  Death on the Nile   \n",
       "10777                                           F.I.S.T.   \n",
       "10778                             Force 10 from Navarone   \n",
       "10779                                             Convoy   \n",
       "10780                     Invasion of the Body Snatchers   \n",
       "10788                                            The Wiz   \n",
       "10791                                    Damien: Omen II   \n",
       "10793                                     Watership Down   \n",
       "10822                    Who's Afraid of Virginia Woolf?   \n",
       "10828                                       Torn Curtain   \n",
       "10829                                          El Dorado   \n",
       "10835                                   The Sand Pebbles   \n",
       "10848                                   Fantastic Voyage   \n",
       "\n",
       "                                                    cast  \\\n",
       "0      Chris Pratt|Bryce Dallas Howard|Irrfan Khan|Vi...   \n",
       "1      Tom Hardy|Charlize Theron|Hugh Keays-Byrne|Nic...   \n",
       "2      Shailene Woodley|Theo James|Kate Winslet|Ansel...   \n",
       "3      Harrison Ford|Mark Hamill|Carrie Fisher|Adam D...   \n",
       "4      Vin Diesel|Paul Walker|Jason Statham|Michelle ...   \n",
       "5      Leonardo DiCaprio|Tom Hardy|Will Poulter|Domhn...   \n",
       "6      Arnold Schwarzenegger|Jason Clarke|Emilia Clar...   \n",
       "7      Matt Damon|Jessica Chastain|Kristen Wiig|Jeff ...   \n",
       "8      Sandra Bullock|Jon Hamm|Michael Keaton|Allison...   \n",
       "9      Amy Poehler|Phyllis Smith|Richard Kind|Bill Ha...   \n",
       "10     Daniel Craig|Christoph Waltz|LÃÂ©a Seydoux|Ra...   \n",
       "11     Mila Kunis|Channing Tatum|Sean Bean|Eddie Redm...   \n",
       "12     Domhnall Gleeson|Alicia Vikander|Oscar Isaac|S...   \n",
       "13     Adam Sandler|Michelle Monaghan|Peter Dinklage|...   \n",
       "14     Robert Downey Jr.|Chris Hemsworth|Mark Ruffalo...   \n",
       "15     Samuel L. Jackson|Kurt Russell|Jennifer Jason ...   \n",
       "16     Liam Neeson|Forest Whitaker|Maggie Grace|Famke...   \n",
       "17     Paul Rudd|Michael Douglas|Evangeline Lilly|Cor...   \n",
       "18     Lily James|Cate Blanchett|Richard Madden|Helen...   \n",
       "19     Jennifer Lawrence|Josh Hutcherson|Liam Hemswor...   \n",
       "20     Britt Robertson|George Clooney|Raffey Cassidy|...   \n",
       "21     Jake Gyllenhaal|Rachel McAdams|Forest Whitaker...   \n",
       "22     Dwayne Johnson|Alexandra Daddario|Carla Gugino...   \n",
       "23     Dakota Johnson|Jamie Dornan|Jennifer Ehle|Eloi...   \n",
       "24     Christian Bale|Steve Carell|Ryan Gosling|Brad ...   \n",
       "25     Tom Cruise|Jeremy Renner|Simon Pegg|Rebecca Fe...   \n",
       "26     Mark Wahlberg|Seth MacFarlane|Amanda Seyfried|...   \n",
       "27     Taron Egerton|Colin Firth|Samuel L. Jackson|Mi...   \n",
       "28     Mark Ruffalo|Michael Keaton|Rachel McAdams|Lie...   \n",
       "29     Dylan O'Brien|Kaya Scodelario|Thomas Brodie-Sa...   \n",
       "...                                                  ...   \n",
       "10690  Julie Andrews|Christopher Plummer|Eleanor Park...   \n",
       "10691  Omar Sharif|Julie Christie|Geraldine Chaplin|R...   \n",
       "10692  Stuart Whitman|Sarah Miles|James Fox|Alberto S...   \n",
       "10716  Max von Sydow|Michael Anderson Jr.|Carroll Bak...   \n",
       "10724  George Lazenby|Diana Rigg|Telly Savalas|Gabrie...   \n",
       "10725  Paul Newman|Robert Redford|Katharine Ross|Stro...   \n",
       "10727  Dustin Hoffman|Jon Voight|Sylvia Miles|John Mc...   \n",
       "10728  Ernest Borgnine|William Holden|Robert Ryan|Edm...   \n",
       "10755  John Travolta|Olivia Newton-John|Stockard Chan...   \n",
       "10756  Roy Scheider|Lorraine Gary|Murray Hamilton|Jos...   \n",
       "10757  David Emge|Ken Foree|Scott H. Reiniger|Gaylen ...   \n",
       "10758  Marlon Brando|Gene Hackman|Christopher Reeve|N...   \n",
       "10759  Donald Pleasence|Jamie Lee Curtis|P.J. Soles|N...   \n",
       "10760  John Belushi|Tim Matheson|John Vernon|Verna Bl...   \n",
       "10762  Robert De Niro|John Cazale|John Savage|Christo...   \n",
       "10770  Brad Davis|Irene Miracle|Bo Hopkins|Randy Quai...   \n",
       "10771  Christopher Guard|William Squire|Michael Schol...   \n",
       "10775  Peter Ustinov|Mia Farrow|Simon MacCorkindale|L...   \n",
       "10777  Sylvester Stallone|Rod Steiger|Peter Boyle|Mel...   \n",
       "10778  Harrison Ford|Robert Shaw|Barbara Bach|Edward ...   \n",
       "10779  Kris Kristofferson|Ali MacGraw|Ernest Borgnine...   \n",
       "10780  Donald Sutherland|Brooke Adams|Leonard Nimoy|V...   \n",
       "10788  Diana Ross|Michael Jackson|Nipsey Russell|Ted ...   \n",
       "10791  William Holden|Lee Grant|Jonathan Scott-Taylor...   \n",
       "10793  John Hurt|Richard Briers|Michael Graham Cox|Jo...   \n",
       "10822  Elizabeth Taylor|Richard Burton|George Segal|S...   \n",
       "10828  Paul Newman|Julie Andrews|Lila Kedrova|HansjÃ...   \n",
       "10829  John Wayne|Robert Mitchum|James Caan|Charlene ...   \n",
       "10835  Steve McQueen|Richard Attenborough|Richard Cre...   \n",
       "10848  Stephen Boyd|Raquel Welch|Edmond O'Brien|Donal...   \n",
       "\n",
       "                                                homepage  \\\n",
       "0                          http://www.jurassicworld.com/   \n",
       "1                            http://www.madmaxmovie.com/   \n",
       "2         http://www.thedivergentseries.movie/#insurgent   \n",
       "3      http://www.starwars.com/films/star-wars-episod...   \n",
       "4                               http://www.furious7.com/   \n",
       "5           http://www.foxmovies.com/movies/the-revenant   \n",
       "6                        http://www.terminatormovie.com/   \n",
       "7            http://www.foxmovies.com/movies/the-martian   \n",
       "8                           http://www.minionsmovie.com/   \n",
       "9                    http://movies.disney.com/inside-out   \n",
       "10           http://www.sonypictures.com/movies/spectre/   \n",
       "11                       http://www.jupiterascending.com   \n",
       "12                           http://exmachina-movie.com/   \n",
       "13                          http://www.pixels-movie.com/   \n",
       "14     http://marvel.com/movies/movie/193/avengers_ag...   \n",
       "15                           http://thehatefuleight.com/   \n",
       "16                           http://www.taken3movie.com/   \n",
       "17            http://marvel.com/movies/movie/180/ant-man   \n",
       "18                                                   NaN   \n",
       "19                      http://www.thehungergames.movie/   \n",
       "20                 http://movies.disney.com/tomorrowland   \n",
       "21                                                   NaN   \n",
       "22                       http://www.sanandreasmovie.com/   \n",
       "23       https://www.facebook.com/fiftyshadesofgreymovie   \n",
       "24                      http://www.thebigshortmovie.com/   \n",
       "25                      http://www.missionimpossible.com   \n",
       "26                                                   NaN   \n",
       "27                         http://www.kingsmanmovie.com/   \n",
       "28                       http://www.spotlightthefilm.com   \n",
       "29                           http://mazerunnermovies.com   \n",
       "...                                                  ...   \n",
       "10690                                                NaN   \n",
       "10691                                                NaN   \n",
       "10692                                                NaN   \n",
       "10716                                                NaN   \n",
       "10724  http://www.mgm.com/view/movie/1411/On-Her-Maje...   \n",
       "10725                                                NaN   \n",
       "10727                                                NaN   \n",
       "10728                                                NaN   \n",
       "10755                                                NaN   \n",
       "10756                                                NaN   \n",
       "10757                                                NaN   \n",
       "10758                                                NaN   \n",
       "10759  http://www.theofficialjohncarpenter.com/hallow...   \n",
       "10760                        http://www.animalhouse.com/   \n",
       "10762                                                NaN   \n",
       "10770                                                NaN   \n",
       "10771                                                NaN   \n",
       "10775                                                NaN   \n",
       "10777                                                NaN   \n",
       "10778                                                NaN   \n",
       "10779                                                NaN   \n",
       "10780                                                NaN   \n",
       "10788                                                NaN   \n",
       "10791                                                NaN   \n",
       "10793                                                NaN   \n",
       "10822                                                NaN   \n",
       "10828                                                NaN   \n",
       "10829                                                NaN   \n",
       "10835                                                NaN   \n",
       "10848                                                NaN   \n",
       "\n",
       "                                   director  \\\n",
       "0                           Colin Trevorrow   \n",
       "1                             George Miller   \n",
       "2                          Robert Schwentke   \n",
       "3                               J.J. Abrams   \n",
       "4                                 James Wan   \n",
       "5      Alejandro GonzÃÂ¡lez IÃÂ±ÃÂ¡rritu   \n",
       "6                               Alan Taylor   \n",
       "7                              Ridley Scott   \n",
       "8                  Kyle Balda|Pierre Coffin   \n",
       "9                               Pete Docter   \n",
       "10                               Sam Mendes   \n",
       "11           Lana Wachowski|Lilly Wachowski   \n",
       "12                             Alex Garland   \n",
       "13                           Chris Columbus   \n",
       "14                              Joss Whedon   \n",
       "15                        Quentin Tarantino   \n",
       "16                          Olivier Megaton   \n",
       "17                              Peyton Reed   \n",
       "18                          Kenneth Branagh   \n",
       "19                         Francis Lawrence   \n",
       "20                                Brad Bird   \n",
       "21                            Antoine Fuqua   \n",
       "22                              Brad Peyton   \n",
       "23                       Sam Taylor-Johnson   \n",
       "24                               Adam McKay   \n",
       "25                    Christopher McQuarrie   \n",
       "26                          Seth MacFarlane   \n",
       "27                           Matthew Vaughn   \n",
       "28                             Tom McCarthy   \n",
       "29                                 Wes Ball   \n",
       "...                                     ...   \n",
       "10690                           Robert Wise   \n",
       "10691                            David Lean   \n",
       "10692                           Ken Annakin   \n",
       "10716                        George Stevens   \n",
       "10724                         Peter R. Hunt   \n",
       "10725                       George Roy Hill   \n",
       "10727                      John Schlesinger   \n",
       "10728                         Sam Peckinpah   \n",
       "10755                        Randal Kleiser   \n",
       "10756                        Jeannot Szwarc   \n",
       "10757                      George A. Romero   \n",
       "10758                        Richard Donner   \n",
       "10759                        John Carpenter   \n",
       "10760                           John Landis   \n",
       "10762                        Michael Cimino   \n",
       "10770                           Alan Parker   \n",
       "10771                          Ralph Bakshi   \n",
       "10775                       John Guillermin   \n",
       "10777                        Norman Jewison   \n",
       "10778                          Guy Hamilton   \n",
       "10779                         Sam Peckinpah   \n",
       "10780                        Philip Kaufman   \n",
       "10788                          Sidney Lumet   \n",
       "10791                Don Taylor|Mike Hodges   \n",
       "10793                          Martin Rosen   \n",
       "10822                          Mike Nichols   \n",
       "10828                      Alfred Hitchcock   \n",
       "10829                          Howard Hawks   \n",
       "10835                           Robert Wise   \n",
       "10848                     Richard Fleischer   \n",
       "\n",
       "                                                 tagline      ...       \\\n",
       "0                                      The park is open.      ...        \n",
       "1                                     What a Lovely Day.      ...        \n",
       "2                             One Choice Can Destroy You      ...        \n",
       "3                          Every generation has a story.      ...        \n",
       "4                                    Vengeance Hits Home      ...        \n",
       "5        (n. One who has returned, as if from the dead.)      ...        \n",
       "6                                       Reset the future      ...        \n",
       "7                                         Bring Him Home      ...        \n",
       "8           Before Gru, they had a history of bad bosses      ...        \n",
       "9               Meet the little voices inside your head.      ...        \n",
       "10                                 A Plan No One Escapes      ...        \n",
       "11                                 Expand your universe.      ...        \n",
       "12     There is nothing more human than the will to s...      ...        \n",
       "13                                              Game On.      ...        \n",
       "14                                   A New Age Has Come.      ...        \n",
       "15      No one comes up here without a damn good reason.      ...        \n",
       "16                                          It Ends Here      ...        \n",
       "17                           Heroes Don't Get Any Bigger      ...        \n",
       "18                       Midnight is just the beginning.      ...        \n",
       "19                           The fire will burn forever.      ...        \n",
       "20          Imagine a world where nothing is impossible.      ...        \n",
       "21                                      Believe in Hope.      ...        \n",
       "22     A rescue pilot survived an earthquake, this is...      ...        \n",
       "23                                      Are you curious?      ...        \n",
       "24                                 This is a true story.      ...        \n",
       "25                  Desperate Times. Desperate Measures.      ...        \n",
       "26                                 Ted is Coming, Again.      ...        \n",
       "27                                   Manners maketh man.      ...        \n",
       "28                   Break the story. Break the silence.      ...        \n",
       "29                      The Maze Was Just the Beginning.      ...        \n",
       "...                                                  ...      ...        \n",
       "10690               The happiest sound in all the world!      ...        \n",
       "10691  Turbulent were the times and fiery was the lov...      ...        \n",
       "10692  or How I Flew from London to Paris in 25 hours...      ...        \n",
       "10716                                                NaN      ...        \n",
       "10724  Far up! Far out! Far more! James Bond 007 is b...      ...        \n",
       "10725       Not that it matters, but most of it is true.      ...        \n",
       "10727   Whatever you hear about Midnight Cowboy is true.      ...        \n",
       "10728  If you only want to spend two hours in a movie...      ...        \n",
       "10755                                 Grease is the word      ...        \n",
       "10756  Just when you thought it was safe to go back i...      ...        \n",
       "10757  When there's no more room in hell, the dead wi...      ...        \n",
       "10758                      You'll Believe a Man Can Fly!      ...        \n",
       "10759                            The Night HE Came Home!      ...        \n",
       "10760  It was the Deltas against the rules... the rul...      ...        \n",
       "10762  One of the most important and powerful films o...      ...        \n",
       "10770  Walk into the incredible true experience of Bi...      ...        \n",
       "10771                  Fantasy...beyond your imagination      ...        \n",
       "10775  A murderer strikes on board the luxury Nile st...      ...        \n",
       "10777                                                NaN      ...        \n",
       "10778                                                NaN      ...        \n",
       "10779  Kristofferson and MacGraw...ain't nothin' gonn...      ...        \n",
       "10780  From deep space... The seed is planted... the ...      ...        \n",
       "10788  From the book that's an American traditionÃ¢â...      ...        \n",
       "10791                 The first time was only a warning.      ...        \n",
       "10793  All the world will be your enemy, Prince with ...      ...        \n",
       "10822  You are cordially invited to George and Martha...      ...        \n",
       "10828                  It tears you apart with suspense!      ...        \n",
       "10829                  It's the Big One with the Big Two      ...        \n",
       "10835  This is the heroic story of the men on the U.S...      ...        \n",
       "10848  A Fantastic and Spectacular Voyage... Through ...      ...        \n",
       "\n",
       "                                                overview runtime  \\\n",
       "0      Twenty-two years after the events of Jurassic ...     124   \n",
       "1      An apocalyptic story set in the furthest reach...     120   \n",
       "2      Beatrice Prior must confront her inner demons ...     119   \n",
       "3      Thirty years after defeating the Galactic Empi...     136   \n",
       "4      Deckard Shaw seeks revenge against Dominic Tor...     137   \n",
       "5      In the 1820s, a frontiersman, Hugh Glass, sets...     156   \n",
       "6      The year is 2029. John Connor, leader of the r...     125   \n",
       "7      During a manned mission to Mars, Astronaut Mar...     141   \n",
       "8      Minions Stuart, Kevin and Bob are recruited by...      91   \n",
       "9      Growing up can be a bumpy road, and it's no ex...      94   \n",
       "10     A cryptic message from BondÃ¢â¬â¢s past send...     148   \n",
       "11     In a universe where human genetic material is ...     124   \n",
       "12     Caleb, a 26 year old coder at the world's larg...     108   \n",
       "13     Video game experts are recruited by the milita...     105   \n",
       "14     When Tony Stark tries to jumpstart a dormant p...     141   \n",
       "15     Bounty hunters seek shelter from a raging bliz...     167   \n",
       "16     Ex-government operative Bryan Mills finds his ...     109   \n",
       "17     Armed with the astonishing ability to shrink i...     115   \n",
       "18     When her father unexpectedly passes away, youn...     112   \n",
       "19     With the nation of Panem in a full scale war, ...     136   \n",
       "20     Bound by a shared destiny, a bright, optimisti...     130   \n",
       "21     Billy \"The Great\" Hope, the reigning junior mi...     123   \n",
       "22     In the aftermath of a massive earthquake in Ca...     114   \n",
       "23     When college senior Anastasia Steele steps in ...     125   \n",
       "24     The men who made millions from a global econom...     130   \n",
       "25     Ethan and team take on their most impossible m...     131   \n",
       "26     Newlywed couple Ted and Tami-Lynn want to have...     115   \n",
       "27     The story of a super-secret spy organization t...     130   \n",
       "28     The true story of how The Boston Globe uncover...     128   \n",
       "29     Thomas and his fellow Gladers face their great...     132   \n",
       "...                                                  ...     ...   \n",
       "10690  Film adaptation of a classic Rodgers and Hamme...     174   \n",
       "10691  Doctor Zhivago is the filmed adapation of the ...     197   \n",
       "10692  Star studded comedy about a early 20th century...     138   \n",
       "10716          All-star epic retelling of Christ's life.     199   \n",
       "10724  James Bond tracks archnemesis Ernst Blofeld to...     142   \n",
       "10725  In late 1890s Wyoming, Butch Cassidy is the af...     110   \n",
       "10727  A naive male prostitute and his sickly friend ...     113   \n",
       "10728  Aging outlaw Pike Bishop (William Holden) prep...     145   \n",
       "10755  Australian good girl Sandy and greaser Danny f...     110   \n",
       "10756  The sequel to the successful blockbuster Jaws....     116   \n",
       "10757  During an ever-growing epidemic of zombies tha...     127   \n",
       "10758  Mild-mannered Clark Kent works as a reporter a...     143   \n",
       "10759  A psychotic murderer, institutionalized since ...      91   \n",
       "10760  At a 1962 College, Dean Vernon Wormer is deter...     109   \n",
       "10762  A group of working-class friends decides to en...     183   \n",
       "10770  Billy Hayes is caught attempting to smuggle dr...     121   \n",
       "10771  The Fellowship of the Ring embark on a journey...     132   \n",
       "10775  As Hercule Poirot enjoys a luxurious cruise do...     140   \n",
       "10777  Johnny Kovak joins the Teamsters trade-union i...     145   \n",
       "10778  Mallory and Miller are back. The survivors of ...     118   \n",
       "10779  Truckers form a mile long \"convoy\" in support ...     110   \n",
       "10780  The first remake of the paranoid infiltration ...     115   \n",
       "10788  A Thanksgiving dinner brings a host of family ...     134   \n",
       "10791  Since the sudden and highly suspicious death o...     107   \n",
       "10793  When the warren belonging to a community of ra...      88   \n",
       "10822  Mike NicholsÃ¢â¬â¢ film from Edward Albee's ...     131   \n",
       "10828  An American scientist publicly defects to East...     128   \n",
       "10829  Cole Thornton, a gunfighter for hire, joins fo...     120   \n",
       "10835  Engineer Jake Holman arrives aboard the gunboa...     182   \n",
       "10848  The science of miniaturization has been unlock...     100   \n",
       "\n",
       "                                                genres  \\\n",
       "0            Action|Adventure|Science Fiction|Thriller   \n",
       "1            Action|Adventure|Science Fiction|Thriller   \n",
       "2                   Adventure|Science Fiction|Thriller   \n",
       "3             Action|Adventure|Science Fiction|Fantasy   \n",
       "4                                Action|Crime|Thriller   \n",
       "5                     Western|Drama|Adventure|Thriller   \n",
       "6            Science Fiction|Action|Thriller|Adventure   \n",
       "7                      Drama|Adventure|Science Fiction   \n",
       "8                    Family|Animation|Adventure|Comedy   \n",
       "9                              Comedy|Animation|Family   \n",
       "10                              Action|Adventure|Crime   \n",
       "11            Science Fiction|Fantasy|Action|Adventure   \n",
       "12                               Drama|Science Fiction   \n",
       "13                       Action|Comedy|Science Fiction   \n",
       "14                    Action|Adventure|Science Fiction   \n",
       "15                         Crime|Drama|Mystery|Western   \n",
       "16                               Crime|Action|Thriller   \n",
       "17                    Science Fiction|Action|Adventure   \n",
       "18                        Romance|Fantasy|Family|Drama   \n",
       "19                       War|Adventure|Science Fiction   \n",
       "20     Action|Family|Science Fiction|Adventure|Mystery   \n",
       "21                                        Action|Drama   \n",
       "22                               Action|Drama|Thriller   \n",
       "23                                       Drama|Romance   \n",
       "24                                        Comedy|Drama   \n",
       "25                                              Action   \n",
       "26                                              Comedy   \n",
       "27                       Crime|Comedy|Action|Adventure   \n",
       "28                              Drama|Thriller|History   \n",
       "29                     Action|Science Fiction|Thriller   \n",
       "...                                                ...   \n",
       "10690                       Drama|Family|Music|Romance   \n",
       "10691                                Drama|Romance|War   \n",
       "10692                          Action|Adventure|Comedy   \n",
       "10716                                    Drama|History   \n",
       "10724                        Adventure|Action|Thriller   \n",
       "10725                      History|Drama|Western|Crime   \n",
       "10727                                            Drama   \n",
       "10728                                Adventure|Western   \n",
       "10755                                            Music   \n",
       "10756                                  Horror|Thriller   \n",
       "10757                                           Horror   \n",
       "10758         Adventure|Fantasy|Action|Science Fiction   \n",
       "10759                                  Horror|Thriller   \n",
       "10760                                           Comedy   \n",
       "10762                                        Drama|War   \n",
       "10770                                      Drama|Crime   \n",
       "10771                        Drama|Animation|Adventure   \n",
       "10775                                          Mystery   \n",
       "10777                                     Drama|Action   \n",
       "10778                    Action|Adventure|War|Thriller   \n",
       "10779                              Action|Comedy|Drama   \n",
       "10780          Horror|Thriller|Science Fiction|Mystery   \n",
       "10788   Adventure|Family|Fantasy|Music|Science Fiction   \n",
       "10791                     Action|Drama|Horror|Thriller   \n",
       "10793                        Adventure|Animation|Drama   \n",
       "10822                                            Drama   \n",
       "10828                                 Mystery|Thriller   \n",
       "10829                                   Action|Western   \n",
       "10835               Action|Adventure|Drama|War|Romance   \n",
       "10848                        Adventure|Science Fiction   \n",
       "\n",
       "                                    production_companies release_date  \\\n",
       "0      Universal Studios|Amblin Entertainment|Legenda...       6/9/15   \n",
       "1      Village Roadshow Pictures|Kennedy Miller Produ...      5/13/15   \n",
       "2      Summit Entertainment|Mandeville Films|Red Wago...      3/18/15   \n",
       "3              Lucasfilm|Truenorth Productions|Bad Robot     12/15/15   \n",
       "4      Universal Pictures|Original Film|Media Rights ...       4/1/15   \n",
       "5      Regency Enterprises|Appian Way|CatchPlay|Anony...     12/25/15   \n",
       "6                Paramount Pictures|Skydance Productions      6/23/15   \n",
       "7      Twentieth Century Fox Film Corporation|Scott F...      9/30/15   \n",
       "8          Universal Pictures|Illumination Entertainment      6/17/15   \n",
       "9      Walt Disney Pictures|Pixar Animation Studios|W...       6/9/15   \n",
       "10                          Columbia Pictures|Danjaq|B24     10/26/15   \n",
       "11     Village Roadshow Pictures|Dune Entertainment|A...       2/4/15   \n",
       "12     DNA Films|Universal Pictures International (UP...      1/21/15   \n",
       "13           Columbia Pictures|Happy Madison Productions      7/16/15   \n",
       "14     Marvel Studios|Prime Focus|Revolution Sun Studios      4/22/15   \n",
       "15     Double Feature Films|The Weinstein Company|Fil...     12/25/15   \n",
       "16     Twentieth Century Fox Film Corporation|M6 Film...       1/1/15   \n",
       "17                                        Marvel Studios      7/14/15   \n",
       "18     Walt Disney Pictures|Genre Films|Beagle Pug Fi...      3/12/15   \n",
       "19     Studio Babelsberg|StudioCanal|Lionsgate|Walt D...     11/18/15   \n",
       "20                     Walt Disney Pictures|Babieka|A113      5/19/15   \n",
       "21               Escape Artists|Riche-Ludwig Productions      6/15/15   \n",
       "22     New Line Cinema|Village Roadshow Pictures|Warn...      5/27/15   \n",
       "23     Focus Features|Trigger Street Productions|Mich...      2/11/15   \n",
       "24     Paramount Pictures|Plan B Entertainment|Regenc...     12/11/15   \n",
       "25     Paramount Pictures|Skydance Productions|China ...      7/23/15   \n",
       "26     Universal Pictures|Media Rights Capital|Fuzzy ...      6/25/15   \n",
       "27     Twentieth Century Fox Film Corporation|Marv Fi...      1/24/15   \n",
       "28     Participant Media|Open Road Films|Anonymous Co...      11/6/15   \n",
       "29     Gotham Group|Temple Hill Entertainment|TSG Ent...       9/9/15   \n",
       "...                                                  ...          ...   \n",
       "10690         Robert Wise Productions|Argyle Enterprises       3/2/65   \n",
       "10691                          Metro-Goldwyn-Mayer (MGM)     12/22/65   \n",
       "10692                  Twentieth Century-Fox Productions       6/3/65   \n",
       "10716                         George Stevens Productions      2/15/65   \n",
       "10724   Eon Productions|Metro-Goldwyn-Mayer (MGM)|Danjaq     12/12/69   \n",
       "10725  Twentieth Century Fox Film Corporation|Campani...      9/23/69   \n",
       "10727  United Artists|Florin Productions|Jerome Hellm...      5/25/69   \n",
       "10728                         Warner Brothers/Seven Arts      6/17/69   \n",
       "10755  Paramount Pictures|Robert Stigwood Organizatio...       7/7/78   \n",
       "10756                                 Universal Pictures      6/16/78   \n",
       "10757                       Laurel Group|Dawn Associates       9/2/78   \n",
       "10758       Warner Bros.|Dovemead Films|Film Export A.G.     12/14/78   \n",
       "10759  Compass International Pictures|Falcon Internat...     10/25/78   \n",
       "10760  Universal Pictures|Oregon Film Factory|Stage I...      7/27/78   \n",
       "10762                  Universal Pictures|EMI Films Ltd.      12/8/78   \n",
       "10770             Columbia Pictures|Casablanca Filmworks      10/6/78   \n",
       "10771                                      Fantasy Films     11/15/78   \n",
       "10775                 EMI Films Ltd.|Mersham Productions      10/6/78   \n",
       "10777                                chateau productions      4/26/78   \n",
       "10778                      Columbia Pictures Corporation      11/1/78   \n",
       "10779                                     EMI Films Ltd.      6/27/78   \n",
       "10780                            United Artists|Solofilm     12/19/78   \n",
       "10788              Universal Pictures|Motown Productions     10/24/78   \n",
       "10791  Twentieth Century Fox Film Corporation|Mace Ne...       6/9/78   \n",
       "10793         Nepenthe Productions|Watership Productions     10/14/78   \n",
       "10822                               Chenault Productions      6/21/66   \n",
       "10828                                 Universal Pictures      7/13/66   \n",
       "10829              Paramount Pictures|Laurel Productions     12/17/66   \n",
       "10835  Twentieth Century Fox Film Corporation|Solar P...     12/20/66   \n",
       "10848             Twentieth Century Fox Film Corporation      8/24/66   \n",
       "\n",
       "      vote_count  vote_average  release_year    budget_adj   revenue_adj  \n",
       "0           5562           6.5          2015  1.379999e+08  1.392446e+09  \n",
       "1           6185           7.1          2015  1.379999e+08  3.481613e+08  \n",
       "2           2480           6.3          2015  1.012000e+08  2.716190e+08  \n",
       "3           5292           7.5          2015  1.839999e+08  1.902723e+09  \n",
       "4           2947           7.3          2015  1.747999e+08  1.385749e+09  \n",
       "5           3929           7.2          2015  1.241999e+08  4.903142e+08  \n",
       "6           2598           5.8          2015  1.425999e+08  4.053551e+08  \n",
       "7           4572           7.6          2015  9.935996e+07  5.477497e+08  \n",
       "8           2893           6.5          2015  6.807997e+07  1.064192e+09  \n",
       "9           3935           8.0          2015  1.609999e+08  7.854116e+08  \n",
       "10          3254           6.2          2015  2.253999e+08  8.102203e+08  \n",
       "11          1937           5.2          2015  1.619199e+08  1.692686e+08  \n",
       "12          2854           7.6          2015  1.379999e+07  3.391985e+07  \n",
       "13          1575           5.8          2015  8.095996e+07  2.241460e+08  \n",
       "14          4304           7.4          2015  2.575999e+08  1.292632e+09  \n",
       "15          2389           7.4          2015  4.047998e+07  1.432992e+08  \n",
       "16          1578           6.1          2015  4.415998e+07  2.997096e+08  \n",
       "17          3779           7.0          2015  1.195999e+08  4.771138e+08  \n",
       "18          1495           6.8          2015  8.739996e+07  4.989630e+08  \n",
       "19          2380           6.5          2015  1.471999e+08  5.984813e+08  \n",
       "20          1899           6.2          2015  1.747999e+08  1.923127e+08  \n",
       "21          1386           7.3          2015  2.759999e+07  8.437300e+07  \n",
       "22          2060           6.1          2015  1.012000e+08  4.328514e+08  \n",
       "23          1865           5.3          2015  3.679998e+07  5.240791e+08  \n",
       "24          1545           7.3          2015  2.575999e+07  1.226787e+08  \n",
       "25          2349           7.1          2015  1.379999e+08  6.277435e+08  \n",
       "26          1666           6.3          2015  6.255997e+07  1.985944e+08  \n",
       "27          3833           7.6          2015  7.451997e+07  3.714978e+08  \n",
       "28          1559           7.8          2015  1.839999e+07  8.127872e+07  \n",
       "29          1849           6.4          2015  5.611998e+07  2.863562e+08  \n",
       "...          ...           ...           ...           ...           ...  \n",
       "10690        620           7.2          1965  5.674862e+07  1.129535e+09  \n",
       "10691        126           6.9          1965  9.688789e+07  7.731786e+08  \n",
       "10692         19           6.6          1965  3.875516e+07  2.072709e+08  \n",
       "10716         13           5.7          1965  1.384113e+08  8.304676e+07  \n",
       "10724        258           6.4          1969  4.160985e+07  4.872780e+08  \n",
       "10725        379           7.0          1969  3.566559e+07  6.081511e+08  \n",
       "10727        124           7.0          1969  2.139935e+07  2.662142e+08  \n",
       "10728        121           7.2          1969  3.711650e+07  3.796251e+06  \n",
       "10755        786           7.0          1978  2.005620e+07  6.077490e+08  \n",
       "10756        179           5.5          1978  6.685401e+07  6.280400e+08  \n",
       "10757        306           7.2          1978  2.172755e+06  1.838485e+08  \n",
       "10758        518           6.7          1978  1.838485e+08  1.003539e+09  \n",
       "10759        522           7.3          1978  1.002810e+06  2.339890e+08  \n",
       "10760        230           6.7          1978  9.025292e+06  4.713208e+08  \n",
       "10762        464           7.4          1978  5.014051e+07  1.671350e+08  \n",
       "10770        141           7.5          1978  7.688212e+06  1.169945e+08  \n",
       "10771         91           6.0          1978  1.337080e+07  1.018568e+08  \n",
       "10775         51           6.2          1978  2.647419e+07  4.867000e+07  \n",
       "10777         13           6.7          1978  3.676971e+01  3.676971e+01  \n",
       "10778         39           6.6          1978  1.671350e+07  2.416773e+07  \n",
       "10779         31           6.2          1978  4.011241e+07  7.609685e+07  \n",
       "10780         87           6.5          1978  1.169945e+07  8.038036e+07  \n",
       "10788         30           6.1          1978  8.022482e+07  7.036068e+07  \n",
       "10791         71           6.1          1978  2.273036e+07  8.864292e+07  \n",
       "10793         67           6.8          1978  3.342701e+06  1.241401e+07  \n",
       "10822         74           7.5          1966  5.038511e+07  2.266436e+08  \n",
       "10828         46           6.3          1966  2.015404e+07  8.733419e+07  \n",
       "10829         36           6.9          1966  3.125892e+07  4.030809e+07  \n",
       "10835         28           7.0          1966  8.061618e+07  1.343603e+08  \n",
       "10848         42           6.7          1966  3.436265e+07  8.061618e+07  \n",
       "\n",
       "[3854 rows x 21 columns]>"
      ]
     },
     "execution_count": 43,
     "metadata": {},
     "output_type": "execute_result"
    }
   ],
   "source": [
    "df.head"
   ]
  },
  {
   "cell_type": "code",
   "execution_count": 40,
   "metadata": {
    "collapsed": true
   },
   "outputs": [],
   "source": [
    "#And we will save this dataset for futher use.\n",
    "df.to_csv('tmdb-movies-clean.csv', index=False)"
   ]
  },
  {
   "cell_type": "markdown",
   "metadata": {},
   "source": [
    "<a id='eda'></a>\n",
    "## Exploratory Data Analysis\n",
    "\n",
    "\n",
    "#### Research Question 1- How are runtimes, popularity and revenues changing over period of years?\n",
    "                       *For the analysis to start we would be grouping, variable 'release_year' so that we could all                              the movies collaborated together released in a particular year.\n",
    "                       *Then we would be using histograms to visualise the variables budget, runtimes, popularity & revenues                    against release_year."
   ]
  },
  {
   "cell_type": "code",
   "execution_count": 41,
   "metadata": {
    "collapsed": true
   },
   "outputs": [],
   "source": [
    "# Use this, and more code cells, to explore your data. Don't forget to add\n",
    "# Markdown cells to document your observations and findings.\n",
    "# Importing the dataset\n",
    "\n",
    "df1 = pd.read_csv('tmdb-movies-clean.csv',encoding='ISO-8859-1')"
   ]
  },
  {
   "cell_type": "code",
   "execution_count": 16,
   "metadata": {},
   "outputs": [
    {
     "data": {
      "image/png": "[encoded data removed]",
      "text/plain": [
       "<matplotlib.figure.Figure at 0x887b750>"
      ]
     },
     "metadata": {},
     "output_type": "display_data"
    }
   ],
   "source": [
    "#grouping the variable 'release_year' and calculating the mean values\n",
    "df_rel_yr = df1.groupby('release_year').mean()\n",
    "#to see initial explorations\n",
    "df_rel_yr.hist(figsize=(8,8));"
   ]
  },
  {
   "cell_type": "markdown",
   "metadata": {},
   "source": [
    "### For 'Runtime' Variable :"
   ]
  },
  {
   "cell_type": "code",
   "execution_count": 17,
   "metadata": {},
   "outputs": [
    {
     "data": {
      "image/png": "[encoded data removed]",
      "text/plain": [
       "<matplotlib.figure.Figure at 0x860a490>"
      ]
     },
     "metadata": {},
     "output_type": "display_data"
    }
   ],
   "source": [
    "df_rel_yr['runtime'].hist(bins=30)\n",
    "plt.xlabel('Runtime')\n",
    "plt.ylabel('Counts')\n",
    "plt.title('Runtime Over Period the Years');"
   ]
  },
  {
   "cell_type": "code",
   "execution_count": 51,
   "metadata": {},
   "outputs": [
    {
     "data": {
      "text/plain": [
       "count     56.000000\n",
       "mean     105.714644\n",
       "std        5.508458\n",
       "min       96.179331\n",
       "25%      101.910776\n",
       "50%      105.678699\n",
       "75%      107.593247\n",
       "max      124.343750\n",
       "Name: runtime, dtype: float64"
      ]
     },
     "execution_count": 51,
     "metadata": {},
     "output_type": "execute_result"
    }
   ],
   "source": [
    "#checking with the describe function\n",
    "df_rel_yr['runtime'].describe()"
   ]
  },
  {
   "cell_type": "code",
   "execution_count": 18,
   "metadata": {},
   "outputs": [
    {
     "data": {
      "image/png": "[encoded data removed]",
      "text/plain": [
       "<matplotlib.figure.Figure at 0x862e590>"
      ]
     },
     "metadata": {},
     "output_type": "display_data"
    }
   ],
   "source": [
    "plt.scatter(x=df1['release_year'], y=df1['runtime'])\n",
    "plt.xlabel('release_year')\n",
    "plt.ylabel('runtime')\n",
    "plt.title('release_year vs runtime Over the Years');"
   ]
  },
  {
   "cell_type": "markdown",
   "metadata": {},
   "source": [
    "### Observations Regarding 'Runtime'\n"
   ]
  },
  {
   "cell_type": "markdown",
   "metadata": {},
   "source": [
    "From the plots and histogram, we can see that:\n",
    "\n",
    "1.As from the plots and describe function we could se that popular runtimes are between 106 to 107 minutes.\n",
    "\n",
    "2.It is right skewed.\n",
    "\n",
    "3.Max runtime was of 124.34 minutes\n",
    "\n",
    "4.As seen from scatter plot there is no correlation between Runtime and Release Year."
   ]
  },
  {
   "cell_type": "markdown",
   "metadata": {},
   "source": [
    "### For 'Popularity' Variable:"
   ]
  },
  {
   "cell_type": "code",
   "execution_count": 55,
   "metadata": {},
   "outputs": [
    {
     "data": {
      "image/png": "[encoded data removed]",
      "text/plain": [
       "<matplotlib.figure.Figure at 0xa43e1f0>"
      ]
     },
     "metadata": {},
     "output_type": "display_data"
    }
   ],
   "source": [
    "df_rel_yr['popularity'].hist(bins=40)\n",
    "plt.xlabel('popularity')\n",
    "plt.ylabel('Counts')\n",
    "plt.title('Popularity Over Period the Years');"
   ]
  },
  {
   "cell_type": "code",
   "execution_count": 56,
   "metadata": {},
   "outputs": [
    {
     "data": {
      "text/plain": [
       "count    56.000000\n",
       "mean      0.559693\n",
       "std       0.128434\n",
       "min       0.304112\n",
       "25%       0.469625\n",
       "50%       0.546928\n",
       "75%       0.626934\n",
       "max       1.032126\n",
       "Name: popularity, dtype: float64"
      ]
     },
     "execution_count": 56,
     "metadata": {},
     "output_type": "execute_result"
    }
   ],
   "source": [
    "#checking with the describe function\n",
    "df_rel_yr['popularity'].describe()"
   ]
  },
  {
   "cell_type": "code",
   "execution_count": 19,
   "metadata": {},
   "outputs": [
    {
     "data": {
      "image/png": "[encoded data removed]",
      "text/plain": [
       "<matplotlib.figure.Figure at 0x969f270>"
      ]
     },
     "metadata": {},
     "output_type": "display_data"
    }
   ],
   "source": [
    "plt.scatter(x=df1['release_year'], y=df1['popularity'])\n",
    "plt.xlabel('release_year')\n",
    "plt.ylabel('popularity')\n",
    "plt.title('release_year vs popularity Over the Years');"
   ]
  },
  {
   "cell_type": "markdown",
   "metadata": {},
   "source": [
    "### Observations Regarding 'Popularity'"
   ]
  },
  {
   "cell_type": "markdown",
   "metadata": {},
   "source": [
    "From the plots and histogram, we can see that:\n",
    "\n",
    "1.The distribution is skewed to right.\n",
    "\n",
    "2.Maximum ratings received fall in the 0.45 to 0.62 ranges.\n",
    "\n",
    "3.There is a positive correlation between 'popularity' & 'release_year'."
   ]
  },
  {
   "cell_type": "markdown",
   "metadata": {},
   "source": [
    "### For 'Revenue' Variable:"
   ]
  },
  {
   "cell_type": "code",
   "execution_count": 63,
   "metadata": {},
   "outputs": [
    {
     "data": {
      "image/png": "[encoded data removed]",
      "text/plain": [
       "<matplotlib.figure.Figure at 0xab923d0>"
      ]
     },
     "metadata": {},
     "output_type": "display_data"
    }
   ],
   "source": [
    "df_rel_yr['revenue'].hist(bins=50)\n",
    "plt.xlabel('Revenue')\n",
    "plt.ylabel('Counts')\n",
    "plt.title('Revenue Over Period the Years');"
   ]
  },
  {
   "cell_type": "code",
   "execution_count": 64,
   "metadata": {},
   "outputs": [
    {
     "data": {
      "text/plain": [
       "count    5.600000e+01\n",
       "mean     3.076766e+07\n",
       "std      1.574209e+07\n",
       "min      1.842102e+06\n",
       "25%      1.815642e+07\n",
       "50%      3.257984e+07\n",
       "75%      4.293171e+07\n",
       "max      5.549569e+07\n",
       "Name: revenue, dtype: float64"
      ]
     },
     "execution_count": 64,
     "metadata": {},
     "output_type": "execute_result"
    }
   ],
   "source": [
    "#checking with the describe function\n",
    "df_rel_yr['revenue'].describe()"
   ]
  },
  {
   "cell_type": "code",
   "execution_count": 20,
   "metadata": {},
   "outputs": [
    {
     "data": {
      "image/png": "[encoded data removed]",
      "text/plain": [
       "<matplotlib.figure.Figure at 0x9374150>"
      ]
     },
     "metadata": {},
     "output_type": "display_data"
    }
   ],
   "source": [
    "plt.scatter(x=df1['release_year'], y=df1['revenue'])\n",
    "plt.xlabel('release_year')\n",
    "plt.ylabel('revenue')\n",
    "plt.title('release_year vs revenue Over the Years');"
   ]
  },
  {
   "cell_type": "markdown",
   "metadata": {},
   "source": [
    "### Observations Regarding 'Revenue'"
   ]
  },
  {
   "cell_type": "markdown",
   "metadata": {},
   "source": [
    "From the plots and histogram, we can see that:\n",
    "\n",
    "1.Distribution is right skewed.\n",
    "\n",
    "2.Revenues vary widely.\n",
    "\n",
    "3.Most movie revenues fall in the 3.7e+07 to 4.5e+07 ranges.\n",
    "\n",
    "4.There is a positive correlation between 'Revenue' &  'release_year'."
   ]
  },
  {
   "cell_type": "markdown",
   "metadata": {},
   "source": [
    "#### Research Question 2- What kinds of properties are associated with movies that have high revenues?"
   ]
  },
  {
   "cell_type": "markdown",
   "metadata": {
    "collapsed": true
   },
   "source": [
    "1.We will find the corelation between variables which are influencing revenue using ''Pearson : standard correlation coefficient''\n",
    "\n",
    "2.And after that we would be using scatter plots to visualize tha data set:\n",
    "\n",
    "a.Revenue vs Popularity\n",
    "   b.Revenue vs Vote counts\n",
    "     c.Revenue vs Vote averages\n"
   ]
  },
  {
   "cell_type": "code",
   "execution_count": 65,
   "metadata": {},
   "outputs": [
    {
     "data": {
      "text/html": [
       "<div>\n",
       "<style>\n",
       "    .dataframe thead tr:only-child th {\n",
       "        text-align: right;\n",
       "    }\n",
       "\n",
       "    .dataframe thead th {\n",
       "        text-align: left;\n",
       "    }\n",
       "\n",
       "    .dataframe tbody tr th {\n",
       "        vertical-align: top;\n",
       "    }\n",
       "</style>\n",
       "<table border=\"1\" class=\"dataframe\">\n",
       "  <thead>\n",
       "    <tr style=\"text-align: right;\">\n",
       "      <th></th>\n",
       "      <th>id</th>\n",
       "      <th>popularity</th>\n",
       "      <th>budget</th>\n",
       "      <th>revenue</th>\n",
       "      <th>runtime</th>\n",
       "      <th>vote_count</th>\n",
       "      <th>vote_average</th>\n",
       "      <th>budget_adj</th>\n",
       "      <th>revenue_adj</th>\n",
       "    </tr>\n",
       "  </thead>\n",
       "  <tbody>\n",
       "    <tr>\n",
       "      <th>id</th>\n",
       "      <td>1.000000</td>\n",
       "      <td>0.612610</td>\n",
       "      <td>0.100292</td>\n",
       "      <td>0.152558</td>\n",
       "      <td>-0.441775</td>\n",
       "      <td>0.539964</td>\n",
       "      <td>-0.297719</td>\n",
       "      <td>-0.148336</td>\n",
       "      <td>-0.299723</td>\n",
       "    </tr>\n",
       "    <tr>\n",
       "      <th>popularity</th>\n",
       "      <td>0.612610</td>\n",
       "      <td>1.000000</td>\n",
       "      <td>0.668215</td>\n",
       "      <td>0.759156</td>\n",
       "      <td>-0.488974</td>\n",
       "      <td>0.849314</td>\n",
       "      <td>-0.574979</td>\n",
       "      <td>0.458952</td>\n",
       "      <td>-0.100506</td>\n",
       "    </tr>\n",
       "    <tr>\n",
       "      <th>budget</th>\n",
       "      <td>0.100292</td>\n",
       "      <td>0.668215</td>\n",
       "      <td>1.000000</td>\n",
       "      <td>0.906124</td>\n",
       "      <td>-0.401485</td>\n",
       "      <td>0.782026</td>\n",
       "      <td>-0.731797</td>\n",
       "      <td>0.891925</td>\n",
       "      <td>-0.158415</td>\n",
       "    </tr>\n",
       "    <tr>\n",
       "      <th>revenue</th>\n",
       "      <td>0.152558</td>\n",
       "      <td>0.759156</td>\n",
       "      <td>0.906124</td>\n",
       "      <td>1.000000</td>\n",
       "      <td>-0.466239</td>\n",
       "      <td>0.809243</td>\n",
       "      <td>-0.706442</td>\n",
       "      <td>0.767164</td>\n",
       "      <td>0.074952</td>\n",
       "    </tr>\n",
       "    <tr>\n",
       "      <th>runtime</th>\n",
       "      <td>-0.441775</td>\n",
       "      <td>-0.488974</td>\n",
       "      <td>-0.401485</td>\n",
       "      <td>-0.466239</td>\n",
       "      <td>1.000000</td>\n",
       "      <td>-0.612715</td>\n",
       "      <td>0.524770</td>\n",
       "      <td>-0.073168</td>\n",
       "      <td>0.300077</td>\n",
       "    </tr>\n",
       "    <tr>\n",
       "      <th>vote_count</th>\n",
       "      <td>0.539964</td>\n",
       "      <td>0.849314</td>\n",
       "      <td>0.782026</td>\n",
       "      <td>0.809243</td>\n",
       "      <td>-0.612715</td>\n",
       "      <td>1.000000</td>\n",
       "      <td>-0.658819</td>\n",
       "      <td>0.505434</td>\n",
       "      <td>-0.215568</td>\n",
       "    </tr>\n",
       "    <tr>\n",
       "      <th>vote_average</th>\n",
       "      <td>-0.297719</td>\n",
       "      <td>-0.574979</td>\n",
       "      <td>-0.731797</td>\n",
       "      <td>-0.706442</td>\n",
       "      <td>0.524770</td>\n",
       "      <td>-0.658819</td>\n",
       "      <td>1.000000</td>\n",
       "      <td>-0.557569</td>\n",
       "      <td>0.377204</td>\n",
       "    </tr>\n",
       "    <tr>\n",
       "      <th>budget_adj</th>\n",
       "      <td>-0.148336</td>\n",
       "      <td>0.458952</td>\n",
       "      <td>0.891925</td>\n",
       "      <td>0.767164</td>\n",
       "      <td>-0.073168</td>\n",
       "      <td>0.505434</td>\n",
       "      <td>-0.557569</td>\n",
       "      <td>1.000000</td>\n",
       "      <td>0.050086</td>\n",
       "    </tr>\n",
       "    <tr>\n",
       "      <th>revenue_adj</th>\n",
       "      <td>-0.299723</td>\n",
       "      <td>-0.100506</td>\n",
       "      <td>-0.158415</td>\n",
       "      <td>0.074952</td>\n",
       "      <td>0.300077</td>\n",
       "      <td>-0.215568</td>\n",
       "      <td>0.377204</td>\n",
       "      <td>0.050086</td>\n",
       "      <td>1.000000</td>\n",
       "    </tr>\n",
       "  </tbody>\n",
       "</table>\n",
       "</div>"
      ],
      "text/plain": [
       "                    id  popularity    budget   revenue   runtime  vote_count  \\\n",
       "id            1.000000    0.612610  0.100292  0.152558 -0.441775    0.539964   \n",
       "popularity    0.612610    1.000000  0.668215  0.759156 -0.488974    0.849314   \n",
       "budget        0.100292    0.668215  1.000000  0.906124 -0.401485    0.782026   \n",
       "revenue       0.152558    0.759156  0.906124  1.000000 -0.466239    0.809243   \n",
       "runtime      -0.441775   -0.488974 -0.401485 -0.466239  1.000000   -0.612715   \n",
       "vote_count    0.539964    0.849314  0.782026  0.809243 -0.612715    1.000000   \n",
       "vote_average -0.297719   -0.574979 -0.731797 -0.706442  0.524770   -0.658819   \n",
       "budget_adj   -0.148336    0.458952  0.891925  0.767164 -0.073168    0.505434   \n",
       "revenue_adj  -0.299723   -0.100506 -0.158415  0.074952  0.300077   -0.215568   \n",
       "\n",
       "              vote_average  budget_adj  revenue_adj  \n",
       "id               -0.297719   -0.148336    -0.299723  \n",
       "popularity       -0.574979    0.458952    -0.100506  \n",
       "budget           -0.731797    0.891925    -0.158415  \n",
       "revenue          -0.706442    0.767164     0.074952  \n",
       "runtime           0.524770   -0.073168     0.300077  \n",
       "vote_count       -0.658819    0.505434    -0.215568  \n",
       "vote_average      1.000000   -0.557569     0.377204  \n",
       "budget_adj       -0.557569    1.000000     0.050086  \n",
       "revenue_adj       0.377204    0.050086     1.000000  "
      ]
     },
     "execution_count": 65,
     "metadata": {},
     "output_type": "execute_result"
    }
   ],
   "source": [
    "#using ''Pearson : standard correlation coefficient''\n",
    "df_rel_yr.corr(method='pearson')"
   ]
  },
  {
   "cell_type": "markdown",
   "metadata": {},
   "source": [
    "From the above correlation we could see that,\n",
    "\n",
    "1.'vote_count' and 'popularity' are correlated positively wrt revenue.\n",
    "\n",
    "2.'vote_average' is correlated negatively wrt revenue."
   ]
  },
  {
   "cell_type": "markdown",
   "metadata": {},
   "source": [
    "### Revenue vs Popularity"
   ]
  },
  {
   "cell_type": "code",
   "execution_count": 70,
   "metadata": {},
   "outputs": [
    {
     "data": {
      "image/png": "[encoded data removed]",
      "text/plain": [
       "<matplotlib.figure.Figure at 0xab98db0>"
      ]
     },
     "metadata": {},
     "output_type": "display_data"
    }
   ],
   "source": [
    "#scatterplot of revenue and popularity\n",
    "plt.scatter(x=df_rel_yr['revenue'], y=df_rel_yr['popularity'])\n",
    "plt.xlabel('Revenue')\n",
    "plt.ylabel('Popularity')\n",
    "plt.title('Revenue vs Popularity Over the Years');"
   ]
  },
  {
   "cell_type": "markdown",
   "metadata": {},
   "source": [
    "### Observations- Revenue vs Popularity:\n",
    "\n",
    "1.The correlation computed from function is similar to the scatterplot.\n",
    "\n",
    "2.Popularity is proportional to revenues."
   ]
  },
  {
   "cell_type": "markdown",
   "metadata": {},
   "source": [
    "### Revenue vs Vote counts"
   ]
  },
  {
   "cell_type": "code",
   "execution_count": 72,
   "metadata": {},
   "outputs": [
    {
     "data": {
      "image/png": "[encoded data removed]",
      "text/plain": [
       "<matplotlib.figure.Figure at 0xa4131b0>"
      ]
     },
     "metadata": {},
     "output_type": "display_data"
    }
   ],
   "source": [
    "#scatterplot of revenue and vote counts over the years\n",
    "plt.scatter(x=df_rel_yr['revenue'], y=df_rel_yr['vote_count'])\n",
    "plt.xlabel('Revenue')\n",
    "plt.ylabel('Vote Count')\n",
    "plt.title('Revenue vs Vote Count Over the Years');"
   ]
  },
  {
   "cell_type": "markdown",
   "metadata": {},
   "source": [
    "### Observations- Revenue vs Vote Count:\n",
    "\n",
    "1.The correlation computed from function is similar to the scatterplot.\n",
    "\n",
    "2.Vote count is almost proportional to revenues.\n"
   ]
  },
  {
   "cell_type": "markdown",
   "metadata": {},
   "source": [
    "### Revenue vs Vote averages"
   ]
  },
  {
   "cell_type": "code",
   "execution_count": 112,
   "metadata": {},
   "outputs": [
    {
     "data": {
      "image/png": "[encoded data removed]",
      "text/plain": [
       "<matplotlib.figure.Figure at 0xa3fe3f0>"
      ]
     },
     "metadata": {},
     "output_type": "display_data"
    }
   ],
   "source": [
    "# scatterplot of revenue and vote averages over the years\n",
    "plt.scatter(x=df_rel_yr['revenue'], y=df_rel_yr['vote_average'])\n",
    "plt.xlabel('Revenue')\n",
    "plt.ylabel('Vote Averages')\n",
    "plt.title('Revenue vs Vote Averages Over the Years');"
   ]
  },
  {
   "cell_type": "markdown",
   "metadata": {},
   "source": [
    "### Observations- Revenue vs Vote Average:\n",
    "\n",
    "1.The correlation computed from function is similar to the scatterplot.\n",
    "\n",
    "2.Vote averages are inversely proportional to revenues.\n",
    "\n",
    "3.Seeing this plot and the previous, we can say voting variables as influencing revenues."
   ]
  },
  {
   "cell_type": "markdown",
   "metadata": {},
   "source": [
    "## Limitations\n",
    "\n",
    "1.There was one duplicate value which was removed.\n",
    "\n",
    "2.Null values were also present.\n",
    "\n",
    "3.For column 'budget' and 'revenue' all the rows with zero record were dropped for analysis.Almost 50% of data were having zero records.\n",
    "\n",
    "4.After all these alterations aor dataset decreased from 10886 rows to 3854 rows."
   ]
  },
  {
   "cell_type": "markdown",
   "metadata": {},
   "source": [
    "<a id='conclusions'></a>\n",
    "## Conclusions\n",
    "\n",
    "#### Question 1\n",
    "\n",
    "1.From the analysis, we got to know that there are patterns to runtimes, popularity and revenues.\n",
    "\n",
    "2.We found that popular runtimes ranges between 106 and 107 minutes.\n",
    "\n",
    "3.Also, ratings had maximum likelihood of being in the 0.45 to 0.62 range.\n",
    "\n",
    "4.Revenues showed a wider range, but the most likely it was falling in the range of 3.7e+07 to 4.5e+07.\n",
    "\n",
    "5.Over the period of years Popularity and Revenue has increased gradually (can be seen from scatter plots).But runtime is having no correlation with release years. \n",
    "\n",
    "#### Question 2\n",
    "\n",
    "1.Based on the analysis, we found that over the years, popularity and revenue show a direct relation.\n",
    "\n",
    "2.Vote counts and revenue are related positively while vote averages are inversely related to revenues.\n",
    "\n",
    "So Popularity and Vote count are properties that are associated with movies that have high revenues."
   ]
  },
  {
   "cell_type": "code",
   "execution_count": 73,
   "metadata": {},
   "outputs": [
    {
     "data": {
      "text/plain": [
       "4294967295"
      ]
     },
     "execution_count": 73,
     "metadata": {},
     "output_type": "execute_result"
    }
   ],
   "source": [
    "from subprocess import call\n",
    "call(['python', '-m', 'nbconvert', 'Investigate_a_Dataset.ipynb'])"
   ]
  },
  {
   "cell_type": "code",
   "execution_count": null,
   "metadata": {
    "collapsed": true
   },
   "outputs": [],
   "source": []
  }
 ],
 "metadata": {
  "kernelspec": {
   "display_name": "Python 3",
   "language": "python",
   "name": "python3"
  },
  "language_info": {
   "codemirror_mode": {
    "name": "ipython",
    "version": 3
   },
   "file_extension": ".py",
   "mimetype": "text/x-python",
   "name": "python",
   "nbconvert_exporter": "python",
   "pygments_lexer": "ipython3",
   "version": "3.6.4"
  }
 },
 "nbformat": 4,
 "nbformat_minor": 2
}
